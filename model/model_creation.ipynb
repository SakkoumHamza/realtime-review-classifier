{
 "cells": [
  {
   "cell_type": "code",
   "execution_count": null,
   "metadata": {
    "colab": {
     "base_uri": "https://localhost:8080/"
    },
    "execution": {
     "iopub.execute_input": "2025-07-22T15:04:01.021144Z",
     "iopub.status.busy": "2025-07-22T15:04:01.020862Z",
     "iopub.status.idle": "2025-07-22T15:04:22.392616Z",
     "shell.execute_reply": "2025-07-22T15:04:22.391949Z",
     "shell.execute_reply.started": "2025-07-22T15:04:01.021124Z"
    },
    "id": "SHu5oYBGTo67",
    "outputId": "c4491f19-5728-4a87-a162-b619b6d1d214",
    "trusted": true
   },
   "outputs": [
    {
     "name": "stderr",
     "output_type": "stream",
     "text": [
      "/tmp/ipykernel_36/2171856800.py:20: FutureWarning: Passing literal json to 'read_json' is deprecated and will be removed in a future version. To read from a literal string, wrap it in a 'StringIO' object.\n",
      "  df = pd.read_json(''.join(lines), lines=True)\n"
     ]
    },
    {
     "name": "stdout",
     "output_type": "stream",
     "text": [
      "Loaded approx. 400.00 MB of data.\n",
      "Original shape: (529839, 9)\n",
      "Balanced sample shape: (141662, 10)\n",
      "sentiment\n",
      "0    70831\n",
      "1    70831\n",
      "Name: count, dtype: int64\n"
     ]
    },
    {
     "name": "stderr",
     "output_type": "stream",
     "text": [
      "/tmp/ipykernel_36/2171856800.py:33: DeprecationWarning: DataFrameGroupBy.apply operated on the grouping columns. This behavior is deprecated, and in a future version of pandas the grouping columns will be excluded from the operation. Either pass `include_groups=False` to exclude the groupings or explicitly select the grouping columns after groupby to silence this warning.\n",
      "  balanced_df = df_binary.groupby('sentiment').apply(lambda x: x.sample(min_count, random_state=42)).reset_index(drop=True)\n"
     ]
    }
   ],
   "source": [
    "import os\n",
    "import pandas as pd\n",
    "\n",
    "review_json_path = '/kaggle/input/yelp-dataset/yelp_academic_dataset_review.json'\n",
    "\n",
    "# Read only 400 MB because of insufficient Ram :)\n",
    "target_bytes = 400_000_000\n",
    "lines = []\n",
    "total_bytes = 0\n",
    "\n",
    "# Read from the JSON file\n",
    "with open(review_json_path, 'r', encoding='utf-8') as f:\n",
    "    for line in f:\n",
    "        lines.append(line)\n",
    "        total_bytes += len(line.encode('utf-8'))\n",
    "        if total_bytes >= target_bytes:\n",
    "            break\n",
    "\n",
    "# Load data into a DataFrame\n",
    "df = pd.read_json(''.join(lines), lines=True)\n",
    "\n",
    "print(f\"Loaded approx. {total_bytes / 1e6:.2f} MB of data.\")\n",
    "print(\"Original shape:\", df.shape)\n",
    "\n",
    "# Filter only 1-star and 5-star reviews\n",
    "df_binary = df[df['stars'].isin([1, 5])].copy()\n",
    "\n",
    "# Create binary label: 1 for 5-star (positive), 0 for 1-star (negative)\n",
    "df_binary['sentiment'] = df_binary['stars'].apply(lambda x: 1 if x == 5 else 0)\n",
    "\n",
    "# Balance the two classes\n",
    "min_count = df_binary['sentiment'].value_counts().min()\n",
    "balanced_df = df_binary.groupby('sentiment').apply(lambda x: x.sample(min_count, random_state=42)).reset_index(drop=True)\n",
    "\n",
    "# Show class distribution and shape\n",
    "print(\"Balanced sample shape:\", balanced_df.shape)\n",
    "print(balanced_df['sentiment'].value_counts())\n",
    "\n"
   ]
  },
  {
   "cell_type": "code",
   "execution_count": null,
   "metadata": {
    "execution": {
     "iopub.execute_input": "2025-07-22T15:05:52.282908Z",
     "iopub.status.busy": "2025-07-22T15:05:52.282619Z",
     "iopub.status.idle": "2025-07-22T15:05:52.289620Z",
     "shell.execute_reply": "2025-07-22T15:05:52.289044Z",
     "shell.execute_reply.started": "2025-07-22T15:05:52.282887Z"
    },
    "trusted": true
   },
   "outputs": [
    {
     "data": {
      "text/plain": [
       "(array([1, 2, 3, 4, 5]), array([ 70831,  41057,  54839, 118866, 244246]))"
      ]
     },
     "execution_count": 68,
     "metadata": {},
     "output_type": "execute_result"
    }
   ],
   "source": [
    "# Values count before balancing\n",
    "np.unique(df[\"stars\"],return_counts=True)"
   ]
  },
  {
   "cell_type": "code",
   "execution_count": null,
   "metadata": {
    "execution": {
     "iopub.execute_input": "2025-07-22T15:05:36.354980Z",
     "iopub.status.busy": "2025-07-22T15:05:36.354673Z",
     "iopub.status.idle": "2025-07-22T15:05:36.360934Z",
     "shell.execute_reply": "2025-07-22T15:05:36.360232Z",
     "shell.execute_reply.started": "2025-07-22T15:05:36.354958Z"
    },
    "trusted": true
   },
   "outputs": [
    {
     "data": {
      "text/plain": [
       "(array([1, 5]), array([70831, 70831]))"
      ]
     },
     "execution_count": 67,
     "metadata": {},
     "output_type": "execute_result"
    }
   ],
   "source": [
    "# Values count after balancing\n",
    "np.unique(balanced_df[\"stars\"],return_counts=True)"
   ]
  },
  {
   "cell_type": "code",
   "execution_count": null,
   "metadata": {
    "colab": {
     "base_uri": "https://localhost:8080/"
    },
    "execution": {
     "iopub.execute_input": "2025-07-22T15:06:06.959476Z",
     "iopub.status.busy": "2025-07-22T15:06:06.959189Z",
     "iopub.status.idle": "2025-07-22T15:06:07.168008Z",
     "shell.execute_reply": "2025-07-22T15:06:07.166940Z",
     "shell.execute_reply.started": "2025-07-22T15:06:06.959452Z"
    },
    "id": "Mh3j0uQlWLqA",
    "outputId": "f839f55c-8b25-41d3-db08-25b74a918b3c",
    "trusted": true
   },
   "outputs": [
    {
     "name": "stdout",
     "output_type": "stream",
     "text": [
      "<class 'pandas.core.frame.DataFrame'>\n",
      "RangeIndex: 529839 entries, 0 to 529838\n",
      "Data columns (total 9 columns):\n",
      " #   Column       Non-Null Count   Dtype         \n",
      "---  ------       --------------   -----         \n",
      " 0   review_id    529839 non-null  object        \n",
      " 1   user_id      529839 non-null  object        \n",
      " 2   business_id  529839 non-null  object        \n",
      " 3   stars        529839 non-null  int64         \n",
      " 4   useful       529839 non-null  int64         \n",
      " 5   funny        529839 non-null  int64         \n",
      " 6   cool         529839 non-null  int64         \n",
      " 7   text         529839 non-null  object        \n",
      " 8   date         529839 non-null  datetime64[ns]\n",
      "dtypes: datetime64[ns](1), int64(4), object(4)\n",
      "memory usage: 36.4+ MB\n"
     ]
    }
   ],
   "source": [
    "# Display DataFrame info\n",
    "df.info()"
   ]
  },
  {
   "cell_type": "code",
   "execution_count": null,
   "metadata": {
    "execution": {
     "iopub.execute_input": "2025-07-22T15:07:55.276977Z",
     "iopub.status.busy": "2025-07-22T15:07:55.276677Z",
     "iopub.status.idle": "2025-07-22T15:07:55.379267Z",
     "shell.execute_reply": "2025-07-22T15:07:55.378605Z",
     "shell.execute_reply.started": "2025-07-22T15:07:55.276956Z"
    },
    "id": "yZHI7E_qSqzT",
    "trusted": true
   },
   "outputs": [],
   "source": [
    "# Split the data into training, validation, and test sets\n",
    "from sklearn.model_selection import train_test_split\n",
    "\n",
    "df = balanced_df\n",
    "X = df['text']\n",
    "y = df['sentiment']\n",
    "\n",
    "X_train, X_temp, y_train, y_temp = train_test_split( X, y, test_size=0.3, stratify=y, random_state=42)\n",
    "X_val, X_test, y_val, y_test = train_test_split( X_temp, y_temp, test_size=0.5, stratify=y_temp, random_state=42 )"
   ]
  },
  {
   "cell_type": "code",
   "execution_count": null,
   "metadata": {
    "execution": {
     "iopub.execute_input": "2025-07-22T15:07:58.678898Z",
     "iopub.status.busy": "2025-07-22T15:07:58.678417Z",
     "iopub.status.idle": "2025-07-22T15:08:11.667846Z",
     "shell.execute_reply": "2025-07-22T15:08:11.667304Z",
     "shell.execute_reply.started": "2025-07-22T15:07:58.678870Z"
    },
    "id": "owBBEUjISqzU",
    "trusted": true
   },
   "outputs": [],
   "source": [
    "# Tokenization and padding\n",
    "from tensorflow.keras.preprocessing.text import Tokenizer\n",
    "from tensorflow.keras.preprocessing.sequence import pad_sequences\n",
    "\n",
    "# Hyperparameters\n",
    "vocab_size = 20000   # Use only top 20,000 words\n",
    "max_length = 300     # Max length of each input sequence\n",
    "\n",
    "# Initialize the tokenizer\n",
    "tokenizer = Tokenizer(num_words=vocab_size, oov_token=\"<OOV>\")\n",
    "\n",
    "# Fit on training texts\n",
    "tokenizer.fit_on_texts(X_train)\n",
    "\n",
    "# Convert text to sequences\n",
    "X_train_seq = tokenizer.texts_to_sequences(X_train)\n",
    "X_val_seq = tokenizer.texts_to_sequences(X_val)\n",
    "X_test_seq = tokenizer.texts_to_sequences(X_test)\n",
    "\n",
    "# Pad the sequences\n",
    "X_train_pad = pad_sequences(X_train_seq, maxlen=max_length, padding='post', truncating='post')\n",
    "X_val_pad = pad_sequences(X_val_seq, maxlen=max_length, padding='post', truncating='post')\n",
    "X_test_pad = pad_sequences(X_test_seq, maxlen=max_length, padding='post', truncating='post')\n"
   ]
  },
  {
   "cell_type": "code",
   "execution_count": null,
   "metadata": {
    "execution": {
     "iopub.execute_input": "2025-07-22T15:18:38.134299Z",
     "iopub.status.busy": "2025-07-22T15:18:38.133364Z",
     "iopub.status.idle": "2025-07-22T15:18:38.698323Z",
     "shell.execute_reply": "2025-07-22T15:18:38.697517Z",
     "shell.execute_reply.started": "2025-07-22T15:18:38.134273Z"
    },
    "trusted": true
   },
   "outputs": [],
   "source": [
    "# Clear Keras session to free up resources\n",
    "from keras import backend\n",
    "backend.clear_session()"
   ]
  },
  {
   "cell_type": "code",
   "execution_count": null,
   "metadata": {
    "execution": {
     "iopub.execute_input": "2025-07-22T15:18:41.992293Z",
     "iopub.status.busy": "2025-07-22T15:18:41.991797Z",
     "iopub.status.idle": "2025-07-22T15:18:42.021851Z",
     "shell.execute_reply": "2025-07-22T15:18:42.021137Z",
     "shell.execute_reply.started": "2025-07-22T15:18:41.992271Z"
    },
    "id": "G4coHcIrTzHj",
    "trusted": true
   },
   "outputs": [
    {
     "data": {
      "text/html": [
       "<pre style=\"white-space:pre;overflow-x:auto;line-height:normal;font-family:Menlo,'DejaVu Sans Mono',consolas,'Courier New',monospace\"><span style=\"font-weight: bold\">Model: \"sequential_1\"</span>\n",
       "</pre>\n"
      ],
      "text/plain": [
       "\u001b[1mModel: \"sequential_1\"\u001b[0m\n"
      ]
     },
     "metadata": {},
     "output_type": "display_data"
    },
    {
     "data": {
      "text/html": [
       "<pre style=\"white-space:pre;overflow-x:auto;line-height:normal;font-family:Menlo,'DejaVu Sans Mono',consolas,'Courier New',monospace\">┏━━━━━━━━━━━━━━━━━━━━━━━━━━━━━━━━━┳━━━━━━━━━━━━━━━━━━━━━━━━┳━━━━━━━━━━━━━━━┓\n",
       "┃<span style=\"font-weight: bold\"> Layer (type)                    </span>┃<span style=\"font-weight: bold\"> Output Shape           </span>┃<span style=\"font-weight: bold\">       Param # </span>┃\n",
       "┡━━━━━━━━━━━━━━━━━━━━━━━━━━━━━━━━━╇━━━━━━━━━━━━━━━━━━━━━━━━╇━━━━━━━━━━━━━━━┩\n",
       "│ embedding_1 (<span style=\"color: #0087ff; text-decoration-color: #0087ff\">Embedding</span>)         │ ?                      │   <span style=\"color: #00af00; text-decoration-color: #00af00\">0</span> (unbuilt) │\n",
       "├─────────────────────────────────┼────────────────────────┼───────────────┤\n",
       "│ lstm_1 (<span style=\"color: #0087ff; text-decoration-color: #0087ff\">LSTM</span>)                   │ ?                      │   <span style=\"color: #00af00; text-decoration-color: #00af00\">0</span> (unbuilt) │\n",
       "├─────────────────────────────────┼────────────────────────┼───────────────┤\n",
       "│ dropout_2 (<span style=\"color: #0087ff; text-decoration-color: #0087ff\">Dropout</span>)             │ ?                      │             <span style=\"color: #00af00; text-decoration-color: #00af00\">0</span> │\n",
       "├─────────────────────────────────┼────────────────────────┼───────────────┤\n",
       "│ dense_2 (<span style=\"color: #0087ff; text-decoration-color: #0087ff\">Dense</span>)                 │ ?                      │   <span style=\"color: #00af00; text-decoration-color: #00af00\">0</span> (unbuilt) │\n",
       "├─────────────────────────────────┼────────────────────────┼───────────────┤\n",
       "│ dropout_3 (<span style=\"color: #0087ff; text-decoration-color: #0087ff\">Dropout</span>)             │ ?                      │             <span style=\"color: #00af00; text-decoration-color: #00af00\">0</span> │\n",
       "├─────────────────────────────────┼────────────────────────┼───────────────┤\n",
       "│ dense_3 (<span style=\"color: #0087ff; text-decoration-color: #0087ff\">Dense</span>)                 │ ?                      │   <span style=\"color: #00af00; text-decoration-color: #00af00\">0</span> (unbuilt) │\n",
       "└─────────────────────────────────┴────────────────────────┴───────────────┘\n",
       "</pre>\n"
      ],
      "text/plain": [
       "┏━━━━━━━━━━━━━━━━━━━━━━━━━━━━━━━━━┳━━━━━━━━━━━━━━━━━━━━━━━━┳━━━━━━━━━━━━━━━┓\n",
       "┃\u001b[1m \u001b[0m\u001b[1mLayer (type)                   \u001b[0m\u001b[1m \u001b[0m┃\u001b[1m \u001b[0m\u001b[1mOutput Shape          \u001b[0m\u001b[1m \u001b[0m┃\u001b[1m \u001b[0m\u001b[1m      Param #\u001b[0m\u001b[1m \u001b[0m┃\n",
       "┡━━━━━━━━━━━━━━━━━━━━━━━━━━━━━━━━━╇━━━━━━━━━━━━━━━━━━━━━━━━╇━━━━━━━━━━━━━━━┩\n",
       "│ embedding_1 (\u001b[38;5;33mEmbedding\u001b[0m)         │ ?                      │   \u001b[38;5;34m0\u001b[0m (unbuilt) │\n",
       "├─────────────────────────────────┼────────────────────────┼───────────────┤\n",
       "│ lstm_1 (\u001b[38;5;33mLSTM\u001b[0m)                   │ ?                      │   \u001b[38;5;34m0\u001b[0m (unbuilt) │\n",
       "├─────────────────────────────────┼────────────────────────┼───────────────┤\n",
       "│ dropout_2 (\u001b[38;5;33mDropout\u001b[0m)             │ ?                      │             \u001b[38;5;34m0\u001b[0m │\n",
       "├─────────────────────────────────┼────────────────────────┼───────────────┤\n",
       "│ dense_2 (\u001b[38;5;33mDense\u001b[0m)                 │ ?                      │   \u001b[38;5;34m0\u001b[0m (unbuilt) │\n",
       "├─────────────────────────────────┼────────────────────────┼───────────────┤\n",
       "│ dropout_3 (\u001b[38;5;33mDropout\u001b[0m)             │ ?                      │             \u001b[38;5;34m0\u001b[0m │\n",
       "├─────────────────────────────────┼────────────────────────┼───────────────┤\n",
       "│ dense_3 (\u001b[38;5;33mDense\u001b[0m)                 │ ?                      │   \u001b[38;5;34m0\u001b[0m (unbuilt) │\n",
       "└─────────────────────────────────┴────────────────────────┴───────────────┘\n"
      ]
     },
     "metadata": {},
     "output_type": "display_data"
    },
    {
     "data": {
      "text/html": [
       "<pre style=\"white-space:pre;overflow-x:auto;line-height:normal;font-family:Menlo,'DejaVu Sans Mono',consolas,'Courier New',monospace\"><span style=\"font-weight: bold\"> Total params: </span><span style=\"color: #00af00; text-decoration-color: #00af00\">0</span> (0.00 B)\n",
       "</pre>\n"
      ],
      "text/plain": [
       "\u001b[1m Total params: \u001b[0m\u001b[38;5;34m0\u001b[0m (0.00 B)\n"
      ]
     },
     "metadata": {},
     "output_type": "display_data"
    },
    {
     "data": {
      "text/html": [
       "<pre style=\"white-space:pre;overflow-x:auto;line-height:normal;font-family:Menlo,'DejaVu Sans Mono',consolas,'Courier New',monospace\"><span style=\"font-weight: bold\"> Trainable params: </span><span style=\"color: #00af00; text-decoration-color: #00af00\">0</span> (0.00 B)\n",
       "</pre>\n"
      ],
      "text/plain": [
       "\u001b[1m Trainable params: \u001b[0m\u001b[38;5;34m0\u001b[0m (0.00 B)\n"
      ]
     },
     "metadata": {},
     "output_type": "display_data"
    },
    {
     "data": {
      "text/html": [
       "<pre style=\"white-space:pre;overflow-x:auto;line-height:normal;font-family:Menlo,'DejaVu Sans Mono',consolas,'Courier New',monospace\"><span style=\"font-weight: bold\"> Non-trainable params: </span><span style=\"color: #00af00; text-decoration-color: #00af00\">0</span> (0.00 B)\n",
       "</pre>\n"
      ],
      "text/plain": [
       "\u001b[1m Non-trainable params: \u001b[0m\u001b[38;5;34m0\u001b[0m (0.00 B)\n"
      ]
     },
     "metadata": {},
     "output_type": "display_data"
    }
   ],
   "source": [
    "# The LSTM model\n",
    "from tensorflow.keras.models import Sequential\n",
    "from tensorflow.keras.layers import Embedding, LSTM, Dense, Dropout\n",
    "\n",
    "\n",
    "model = Sequential([\n",
    "    Embedding(input_dim=vocab_size, output_dim=128, input_length=max_length),\n",
    "    LSTM(64, return_sequences=False),\n",
    "    Dropout(0.3),\n",
    "    Dense(32, activation='relu'),\n",
    "    Dropout(0.3),\n",
    "    Dense(1, activation='sigmoid')\n",
    "])\n",
    "\n",
    "model.compile(loss='binary_crossentropy', optimizer='adam', metrics=['accuracy'])\n",
    "model.summary()\n"
   ]
  },
  {
   "cell_type": "code",
   "execution_count": null,
   "metadata": {
    "colab": {
     "base_uri": "https://localhost:8080/",
     "height": 400
    },
    "execution": {
     "iopub.execute_input": "2025-07-22T15:19:01.671019Z",
     "iopub.status.busy": "2025-07-22T15:19:01.670760Z",
     "iopub.status.idle": "2025-07-22T15:20:42.249887Z",
     "shell.execute_reply": "2025-07-22T15:20:42.249131Z",
     "shell.execute_reply.started": "2025-07-22T15:19:01.671002Z"
    },
    "id": "KY4Qg8ezXYyJ",
    "outputId": "40581dcf-a7b2-4c56-98ab-8569f9c9f7b4",
    "trusted": true
   },
   "outputs": [
    {
     "name": "stdout",
     "output_type": "stream",
     "text": [
      "Epoch 1/8\n",
      "\u001b[1m775/775\u001b[0m \u001b[32m━━━━━━━━━━━━━━━━━━━━\u001b[0m\u001b[37m\u001b[0m \u001b[1m17s\u001b[0m 19ms/step - accuracy: 0.5228 - loss: 0.6839 - val_accuracy: 0.5286 - val_loss: 0.6846\n",
      "Epoch 2/8\n",
      "\u001b[1m775/775\u001b[0m \u001b[32m━━━━━━━━━━━━━━━━━━━━\u001b[0m\u001b[37m\u001b[0m \u001b[1m14s\u001b[0m 18ms/step - accuracy: 0.5346 - loss: 0.6787 - val_accuracy: 0.5276 - val_loss: 0.6827\n",
      "Epoch 3/8\n",
      "\u001b[1m775/775\u001b[0m \u001b[32m━━━━━━━━━━━━━━━━━━━━\u001b[0m\u001b[37m\u001b[0m \u001b[1m14s\u001b[0m 18ms/step - accuracy: 0.6256 - loss: 0.5803 - val_accuracy: 0.9621 - val_loss: 0.1177\n",
      "Epoch 4/8\n",
      "\u001b[1m775/775\u001b[0m \u001b[32m━━━━━━━━━━━━━━━━━━━━\u001b[0m\u001b[37m\u001b[0m \u001b[1m14s\u001b[0m 18ms/step - accuracy: 0.9762 - loss: 0.0789 - val_accuracy: 0.9753 - val_loss: 0.0726\n",
      "Epoch 5/8\n",
      "\u001b[1m775/775\u001b[0m \u001b[32m━━━━━━━━━━━━━━━━━━━━\u001b[0m\u001b[37m\u001b[0m \u001b[1m14s\u001b[0m 18ms/step - accuracy: 0.9888 - loss: 0.0380 - val_accuracy: 0.9760 - val_loss: 0.0722\n",
      "Epoch 6/8\n",
      "\u001b[1m775/775\u001b[0m \u001b[32m━━━━━━━━━━━━━━━━━━━━\u001b[0m\u001b[37m\u001b[0m \u001b[1m14s\u001b[0m 18ms/step - accuracy: 0.9942 - loss: 0.0220 - val_accuracy: 0.9742 - val_loss: 0.0865\n",
      "Epoch 7/8\n",
      "\u001b[1m775/775\u001b[0m \u001b[32m━━━━━━━━━━━━━━━━━━━━\u001b[0m\u001b[37m\u001b[0m \u001b[1m14s\u001b[0m 18ms/step - accuracy: 0.9960 - loss: 0.0149 - val_accuracy: 0.9737 - val_loss: 0.0881\n"
     ]
    }
   ],
   "source": [
    "# Early stopping to prevent overfitting\n",
    "\n",
    "from keras.callbacks import EarlyStopping\n",
    "\n",
    "early_stopping = EarlyStopping(\n",
    "    monitor = \"val_loss\",\n",
    "    patience= 2,\n",
    "    restore_best_weights = True\n",
    ")\n",
    "\n",
    "history = model.fit(\n",
    "    X_train_pad,\n",
    "    y_train,\n",
    "    validation_data = (X_val_pad,y_val),\n",
    "    epochs=8,\n",
    "    batch_size=128,\n",
    "    callbacks=[early_stopping]\n",
    ")\n"
   ]
  },
  {
   "cell_type": "code",
   "execution_count": null,
   "metadata": {
    "execution": {
     "iopub.execute_input": "2025-07-22T15:14:55.277293Z",
     "iopub.status.busy": "2025-07-22T15:14:55.276996Z",
     "iopub.status.idle": "2025-07-22T15:14:59.411364Z",
     "shell.execute_reply": "2025-07-22T15:14:59.410862Z",
     "shell.execute_reply.started": "2025-07-22T15:14:55.277270Z"
    },
    "id": "yhKv5ck0XGuN",
    "trusted": true
   },
   "outputs": [
    {
     "name": "stdout",
     "output_type": "stream",
     "text": [
      "\u001b[1m665/665\u001b[0m \u001b[32m━━━━━━━━━━━━━━━━━━━━\u001b[0m\u001b[37m\u001b[0m \u001b[1m4s\u001b[0m 6ms/step - accuracy: 0.9746 - loss: 0.0707\n"
     ]
    }
   ],
   "source": [
    "# Evaluate the model on the test set (Unseen data)\n",
    "loss, accuracy = model.evaluate(X_test_pad, y_test, verbose=1)"
   ]
  },
  {
   "cell_type": "code",
   "execution_count": 77,
   "metadata": {
    "execution": {
     "iopub.execute_input": "2025-07-22T15:15:02.604233Z",
     "iopub.status.busy": "2025-07-22T15:15:02.603615Z",
     "iopub.status.idle": "2025-07-22T15:15:06.961628Z",
     "shell.execute_reply": "2025-07-22T15:15:06.960705Z",
     "shell.execute_reply.started": "2025-07-22T15:15:02.604208Z"
    },
    "trusted": true
   },
   "outputs": [
    {
     "name": "stdout",
     "output_type": "stream",
     "text": [
      "\u001b[1m665/665\u001b[0m \u001b[32m━━━━━━━━━━━━━━━━━━━━\u001b[0m\u001b[37m\u001b[0m \u001b[1m4s\u001b[0m 6ms/step\n"
     ]
    },
    {
     "data": {
      "text/plain": [
       "array([[10369,   256],\n",
       "       [  269, 10356]])"
      ]
     },
     "execution_count": 77,
     "metadata": {},
     "output_type": "execute_result"
    }
   ],
   "source": [
    "# Confusion Matrix\n",
    "from sklearn.metrics import confusion_matrix\n",
    "import numpy as np \n",
    "\n",
    "y_pred = model.predict(X_test_pad)\n",
    "y_pred = (y_pred > 0.5).astype('int32')\n",
    "cm = confusion_matrix(y_test, y_pred)\n",
    "cm"
   ]
  },
  {
   "cell_type": "code",
   "execution_count": 78,
   "metadata": {
    "execution": {
     "iopub.execute_input": "2025-07-22T15:15:13.191905Z",
     "iopub.status.busy": "2025-07-22T15:15:13.191419Z",
     "iopub.status.idle": "2025-07-22T15:15:13.372063Z",
     "shell.execute_reply": "2025-07-22T15:15:13.371306Z",
     "shell.execute_reply.started": "2025-07-22T15:15:13.191880Z"
    },
    "trusted": true
   },
   "outputs": [
    {
     "data": {
      "text/plain": [
       "<Axes: >"
      ]
     },
     "execution_count": 78,
     "metadata": {},
     "output_type": "execute_result"
    },
    {
     "data": {
      "image/png": "[encoded data removed]",
      "text/plain": [
       "<Figure size 640x480 with 2 Axes>"
      ]
     },
     "metadata": {},
     "output_type": "display_data"
    }
   ],
   "source": [
    "import seaborn as sns \n",
    "\n",
    "sns.heatmap(cm, cmap='Blues', fmt=\"g\", annot=True)"
   ]
  },
  {
   "cell_type": "code",
   "execution_count": null,
   "metadata": {
    "execution": {
     "iopub.execute_input": "2025-07-22T15:16:19.873262Z",
     "iopub.status.busy": "2025-07-22T15:16:19.873001Z",
     "iopub.status.idle": "2025-07-22T15:16:19.972194Z",
     "shell.execute_reply": "2025-07-22T15:16:19.971429Z",
     "shell.execute_reply.started": "2025-07-22T15:16:19.873243Z"
    },
    "trusted": true
   },
   "outputs": [],
   "source": [
    "# Save the model\n",
    "model.save(f\"./sentimentLSTM_{round(accuracy,3)}.h5\")"
   ]
  }
 ],
 "metadata": {
  "accelerator": "GPU",
  "colab": {
   "gpuType": "T4",
   "name": "sentiment_analysis",
   "provenance": []
  },
  "kaggle": {
   "accelerator": "nvidiaTeslaT4",
   "dataSources": [
    {
     "datasetId": 10100,
     "isSourceIdPinned": false,
     "sourceId": 3316532,
     "sourceType": "datasetVersion"
    }
   ],
   "dockerImageVersionId": 31089,
   "isGpuEnabled": true,
   "isInternetEnabled": true,
   "language": "python",
   "sourceType": "notebook"
  },
  "kernelspec": {
   "display_name": "Python 3",
   "language": "python",
   "name": "python3"
  },
  "language_info": {
   "codemirror_mode": {
    "name": "ipython",
    "version": 3
   },
   "file_extension": ".py",
   "mimetype": "text/x-python",
   "name": "python",
   "nbconvert_exporter": "python",
   "pygments_lexer": "ipython3",
   "version": "3.11.13"
  }
 },
 "nbformat": 4,
 "nbformat_minor": 4
}
